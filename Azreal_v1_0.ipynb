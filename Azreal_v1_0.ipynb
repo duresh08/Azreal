{
  "nbformat": 4,
  "nbformat_minor": 0,
  "metadata": {
    "colab": {
      "provenance": [],
      "collapsed_sections": []
    },
    "kernelspec": {
      "name": "python3",
      "display_name": "Python 3"
    },
    "language_info": {
      "name": "python"
    }
  },
  "cells": [
    {
      "cell_type": "code",
      "execution_count": 8,
      "metadata": {
        "colab": {
          "base_uri": "https://localhost:8080/"
        },
        "id": "ntB1u-UWeiQ7",
        "outputId": "e41f1a73-a6a0-441b-b110-51bf6c666e2c"
      },
      "outputs": [
        {
          "output_type": "stream",
          "name": "stdout",
          "text": [
            "Looking in indexes: https://pypi.org/simple, https://us-python.pkg.dev/colab-wheels/public/simple/\n",
            "Requirement already satisfied: tvdatafeed in /usr/local/lib/python3.7/dist-packages (2.1.0)\n",
            "Requirement already satisfied: pandas in /usr/local/lib/python3.7/dist-packages (from tvdatafeed) (1.3.5)\n",
            "Requirement already satisfied: setuptools in /usr/local/lib/python3.7/dist-packages (from tvdatafeed) (57.4.0)\n",
            "Requirement already satisfied: websocket-client in /usr/local/lib/python3.7/dist-packages (from tvdatafeed) (1.4.1)\n",
            "Requirement already satisfied: requests in /usr/local/lib/python3.7/dist-packages (from tvdatafeed) (2.23.0)\n",
            "Requirement already satisfied: python-dateutil>=2.7.3 in /usr/local/lib/python3.7/dist-packages (from pandas->tvdatafeed) (2.8.2)\n",
            "Requirement already satisfied: pytz>=2017.3 in /usr/local/lib/python3.7/dist-packages (from pandas->tvdatafeed) (2022.2.1)\n",
            "Requirement already satisfied: numpy>=1.17.3 in /usr/local/lib/python3.7/dist-packages (from pandas->tvdatafeed) (1.21.6)\n",
            "Requirement already satisfied: six>=1.5 in /usr/local/lib/python3.7/dist-packages (from python-dateutil>=2.7.3->pandas->tvdatafeed) (1.15.0)\n",
            "Requirement already satisfied: chardet<4,>=3.0.2 in /usr/local/lib/python3.7/dist-packages (from requests->tvdatafeed) (3.0.4)\n",
            "Requirement already satisfied: urllib3!=1.25.0,!=1.25.1,<1.26,>=1.21.1 in /usr/local/lib/python3.7/dist-packages (from requests->tvdatafeed) (1.24.3)\n",
            "Requirement already satisfied: certifi>=2017.4.17 in /usr/local/lib/python3.7/dist-packages (from requests->tvdatafeed) (2022.6.15)\n",
            "Requirement already satisfied: idna<3,>=2.5 in /usr/local/lib/python3.7/dist-packages (from requests->tvdatafeed) (2.10)\n",
            "Looking in indexes: https://pypi.org/simple, https://us-python.pkg.dev/colab-wheels/public/simple/\n",
            "Requirement already satisfied: pandas_ta in /usr/local/lib/python3.7/dist-packages (0.3.14b0)\n",
            "Requirement already satisfied: pandas in /usr/local/lib/python3.7/dist-packages (from pandas_ta) (1.3.5)\n",
            "Requirement already satisfied: python-dateutil>=2.7.3 in /usr/local/lib/python3.7/dist-packages (from pandas->pandas_ta) (2.8.2)\n",
            "Requirement already satisfied: numpy>=1.17.3 in /usr/local/lib/python3.7/dist-packages (from pandas->pandas_ta) (1.21.6)\n",
            "Requirement already satisfied: pytz>=2017.3 in /usr/local/lib/python3.7/dist-packages (from pandas->pandas_ta) (2022.2.1)\n",
            "Requirement already satisfied: six>=1.5 in /usr/local/lib/python3.7/dist-packages (from python-dateutil>=2.7.3->pandas->pandas_ta) (1.15.0)\n",
            "Authtoken saved to configuration file: /root/.ngrok2/ngrok.yml\n",
            "NAME:\n",
            "   ngrok - tunnel local ports to public URLs and inspect traffic\n",
            "\n",
            "DESCRIPTION:\n",
            "    ngrok exposes local networked services behinds NATs and firewalls to the\n",
            "    public internet over a secure tunnel. Share local websites, build/test\n",
            "    webhook consumers and self-host personal services.\n",
            "    Detailed help for each command is available with 'ngrok help <command>'.\n",
            "    Open http://localhost:4040 for ngrok's web interface to inspect traffic.\n",
            "\n",
            "EXAMPLES:\n",
            "    ngrok http 80                    # secure public URL for port 80 web server\n",
            "    ngrok http -subdomain=baz 8080   # port 8080 available at baz.ngrok.io\n",
            "    ngrok http foo.dev:80            # tunnel to host:port instead of localhost\n",
            "    ngrok http https://localhost     # expose a local https server\n",
            "    ngrok tcp 22                     # tunnel arbitrary TCP traffic to port 22\n",
            "    ngrok tls -hostname=foo.com 443  # TLS traffic for foo.com to port 443\n",
            "    ngrok start foo bar baz          # start tunnels from the configuration file\n",
            "\n",
            "VERSION:\n",
            "   2.3.40\n",
            "\n",
            "AUTHOR:\n",
            "  inconshreveable - <alan@ngrok.com>\n",
            "\n",
            "COMMANDS:\n",
            "   authtoken\tsave authtoken to configuration file\n",
            "   credits\tprints author and licensing information\n",
            "   http\t\tstart an HTTP tunnel\n",
            "   start\tstart tunnels by name from the configuration file\n",
            "   tcp\t\tstart a TCP tunnel\n",
            "   tls\t\tstart a TLS tunnel\n",
            "   update\tupdate ngrok to the latest version\n",
            "   version\tprint the version string\n",
            "   help\t\tShows a list of commands or help for one command\n",
            "\n",
            "ERROR:  Unrecognized command: config\n",
            "Looking in indexes: https://pypi.org/simple, https://us-python.pkg.dev/colab-wheels/public/simple/\n",
            "Requirement already satisfied: streamlit in /usr/local/lib/python3.7/dist-packages (1.13.0)\n",
            "Requirement already satisfied: python-dateutil in /usr/local/lib/python3.7/dist-packages (from streamlit) (2.8.2)\n",
            "Requirement already satisfied: validators>=0.2 in /usr/local/lib/python3.7/dist-packages (from streamlit) (0.20.0)\n",
            "Requirement already satisfied: pandas>=0.21.0 in /usr/local/lib/python3.7/dist-packages (from streamlit) (1.3.5)\n",
            "Requirement already satisfied: tornado>=5.0 in /usr/local/lib/python3.7/dist-packages (from streamlit) (5.1.1)\n",
            "Requirement already satisfied: cachetools>=4.0 in /usr/local/lib/python3.7/dist-packages (from streamlit) (4.2.4)\n",
            "Requirement already satisfied: pyarrow>=4.0 in /usr/local/lib/python3.7/dist-packages (from streamlit) (6.0.1)\n",
            "Requirement already satisfied: altair>=3.2.0 in /usr/local/lib/python3.7/dist-packages (from streamlit) (4.2.0)\n",
            "Requirement already satisfied: protobuf!=3.20.2,<4,>=3.12 in /usr/local/lib/python3.7/dist-packages (from streamlit) (3.17.3)\n",
            "Requirement already satisfied: requests>=2.4 in /usr/local/lib/python3.7/dist-packages (from streamlit) (2.23.0)\n",
            "Requirement already satisfied: pydeck>=0.1.dev5 in /usr/local/lib/python3.7/dist-packages (from streamlit) (0.8.0b3)\n",
            "Requirement already satisfied: watchdog in /usr/local/lib/python3.7/dist-packages (from streamlit) (2.1.9)\n",
            "Requirement already satisfied: blinker>=1.0.0 in /usr/local/lib/python3.7/dist-packages (from streamlit) (1.5)\n",
            "Requirement already satisfied: numpy in /usr/local/lib/python3.7/dist-packages (from streamlit) (1.21.6)\n",
            "Requirement already satisfied: pillow>=6.2.0 in /usr/local/lib/python3.7/dist-packages (from streamlit) (7.1.2)\n",
            "Requirement already satisfied: rich>=10.11.0 in /usr/local/lib/python3.7/dist-packages (from streamlit) (12.6.0)\n",
            "Requirement already satisfied: gitpython!=3.1.19 in /usr/local/lib/python3.7/dist-packages (from streamlit) (3.1.27)\n",
            "Requirement already satisfied: typing-extensions>=3.10.0.0 in /usr/local/lib/python3.7/dist-packages (from streamlit) (4.1.1)\n",
            "Requirement already satisfied: toml in /usr/local/lib/python3.7/dist-packages (from streamlit) (0.10.2)\n",
            "Requirement already satisfied: importlib-metadata>=1.4 in /usr/local/lib/python3.7/dist-packages (from streamlit) (4.12.0)\n",
            "Requirement already satisfied: semver in /usr/local/lib/python3.7/dist-packages (from streamlit) (2.13.0)\n",
            "Requirement already satisfied: tzlocal>=1.1 in /usr/local/lib/python3.7/dist-packages (from streamlit) (1.5.1)\n",
            "Requirement already satisfied: click>=7.0 in /usr/local/lib/python3.7/dist-packages (from streamlit) (7.1.2)\n",
            "Requirement already satisfied: packaging>=14.1 in /usr/local/lib/python3.7/dist-packages (from streamlit) (21.3)\n",
            "Requirement already satisfied: pympler>=0.9 in /usr/local/lib/python3.7/dist-packages (from streamlit) (1.0.1)\n",
            "Requirement already satisfied: jsonschema>=3.0 in /usr/local/lib/python3.7/dist-packages (from altair>=3.2.0->streamlit) (4.3.3)\n",
            "Requirement already satisfied: jinja2 in /usr/local/lib/python3.7/dist-packages (from altair>=3.2.0->streamlit) (2.11.3)\n",
            "Requirement already satisfied: toolz in /usr/local/lib/python3.7/dist-packages (from altair>=3.2.0->streamlit) (0.12.0)\n",
            "Requirement already satisfied: entrypoints in /usr/local/lib/python3.7/dist-packages (from altair>=3.2.0->streamlit) (0.4)\n",
            "Requirement already satisfied: gitdb<5,>=4.0.1 in /usr/local/lib/python3.7/dist-packages (from gitpython!=3.1.19->streamlit) (4.0.9)\n",
            "Requirement already satisfied: smmap<6,>=3.0.1 in /usr/local/lib/python3.7/dist-packages (from gitdb<5,>=4.0.1->gitpython!=3.1.19->streamlit) (5.0.0)\n",
            "Requirement already satisfied: zipp>=0.5 in /usr/local/lib/python3.7/dist-packages (from importlib-metadata>=1.4->streamlit) (3.8.1)\n",
            "Requirement already satisfied: pyrsistent!=0.17.0,!=0.17.1,!=0.17.2,>=0.14.0 in /usr/local/lib/python3.7/dist-packages (from jsonschema>=3.0->altair>=3.2.0->streamlit) (0.18.1)\n",
            "Requirement already satisfied: importlib-resources>=1.4.0 in /usr/local/lib/python3.7/dist-packages (from jsonschema>=3.0->altair>=3.2.0->streamlit) (5.9.0)\n",
            "Requirement already satisfied: attrs>=17.4.0 in /usr/local/lib/python3.7/dist-packages (from jsonschema>=3.0->altair>=3.2.0->streamlit) (22.1.0)\n",
            "Requirement already satisfied: pyparsing!=3.0.5,>=2.0.2 in /usr/local/lib/python3.7/dist-packages (from packaging>=14.1->streamlit) (3.0.9)\n",
            "Requirement already satisfied: pytz>=2017.3 in /usr/local/lib/python3.7/dist-packages (from pandas>=0.21.0->streamlit) (2022.2.1)\n",
            "Requirement already satisfied: six>=1.9 in /usr/local/lib/python3.7/dist-packages (from protobuf!=3.20.2,<4,>=3.12->streamlit) (1.15.0)\n",
            "Requirement already satisfied: MarkupSafe>=0.23 in /usr/local/lib/python3.7/dist-packages (from jinja2->altair>=3.2.0->streamlit) (2.0.1)\n",
            "Requirement already satisfied: certifi>=2017.4.17 in /usr/local/lib/python3.7/dist-packages (from requests>=2.4->streamlit) (2022.6.15)\n",
            "Requirement already satisfied: chardet<4,>=3.0.2 in /usr/local/lib/python3.7/dist-packages (from requests>=2.4->streamlit) (3.0.4)\n",
            "Requirement already satisfied: urllib3!=1.25.0,!=1.25.1,<1.26,>=1.21.1 in /usr/local/lib/python3.7/dist-packages (from requests>=2.4->streamlit) (1.24.3)\n",
            "Requirement already satisfied: idna<3,>=2.5 in /usr/local/lib/python3.7/dist-packages (from requests>=2.4->streamlit) (2.10)\n",
            "Requirement already satisfied: commonmark<0.10.0,>=0.9.0 in /usr/local/lib/python3.7/dist-packages (from rich>=10.11.0->streamlit) (0.9.1)\n",
            "Requirement already satisfied: pygments<3.0.0,>=2.6.0 in /usr/local/lib/python3.7/dist-packages (from rich>=10.11.0->streamlit) (2.6.1)\n",
            "Requirement already satisfied: decorator>=3.4.0 in /usr/local/lib/python3.7/dist-packages (from validators>=0.2->streamlit) (4.4.2)\n",
            "Looking in indexes: https://pypi.org/simple, https://us-python.pkg.dev/colab-wheels/public/simple/\n",
            "Requirement already satisfied: pyngrok in /usr/local/lib/python3.7/dist-packages (5.1.0)\n",
            "Requirement already satisfied: PyYAML in /usr/local/lib/python3.7/dist-packages (from pyngrok) (6.0)\n"
          ]
        }
      ],
      "source": [
        "!pip install tvdatafeed\n",
        "!pip install pandas_ta\n",
        "\n",
        "!ngrok authtoken 2Ffv1unEPZYVnPjuDvjxUXVlh0y_RHo2BDqLMkLf8CPAqJeD\n",
        "!ngrok config add-authtoken 2Ffv1unEPZYVnPjuDvjxUXVlh0y_RHo2BDqLMkLf8CPAqJeD\n",
        "\n",
        "!pip install streamlit\n",
        "!pip install pyngrok\n",
        "\n",
        "from pyngrok import ngrok"
      ]
    },
    {
      "cell_type": "code",
      "source": [
        "%%writefile azreal.py\n",
        "\n",
        "def FEMUR():\n",
        "    from tvDatafeed import TvDatafeed, Interval\n",
        "    import numpy as np\n",
        "    import pandas as pd\n",
        "    import pandas_ta as ta\n",
        "\n",
        "    Forex_Pairs_List = [\"EURUSD\",\"USDJPY\",\"GBPUSD\",\"AUDUSD\",\"USDCHF\",\"NZDUSD\",\"USDCAD\",\n",
        "                       \"EURJPY\",\"EURGBP\",\"EURAUD\",\"EURCHF\",\"EURNZD\",\"EURCAD\",\n",
        "                       \"GBPJPY\",\"CHFJPY\",\"NZDJPY\",\"AUDJPY\",\"CADJPY\",\n",
        "                       \"GBPAUD\",\"AUDCHF\",\"AUDNZD\",\"AUDCAD\",\n",
        "                       \"GBPCHF\",\"NZDCHF\",\"CADCHF\",\n",
        "                       \"GBPNZD\",\"GBPCAD\",\n",
        "                       \"NZDCAD\"]\n",
        "\n",
        "    Final_df = pd.DataFrame()\n",
        "\n",
        "    username = 'Azreal1'\n",
        "    password = 'Mynameisdhruv123!@#'\n",
        "\n",
        "    tv = TvDatafeed(username, password)\n",
        "\n",
        "    for Currency_Pair in Forex_Pairs_List:\n",
        "        Symbol_String = Currency_Pair\n",
        "        Currency_Pair = tv.get_hist(symbol = 'FX:{}'.format(Currency_Pair), exchange = 'FXCM',\n",
        "                                    interval = Interval.in_1_hour, n_bars = 100)\n",
        "        #Stochastic\n",
        "        Stoch = round(ta.stoch(high = Currency_Pair[\"high\"], low = Currency_Pair[\"low\"], \n",
        "                               close = Currency_Pair[\"close\"], window = 14, smooth_window = 3),2)\n",
        "        Currency_Pair[\"Stochastic %K\"] = Stoch[\"STOCHk_14_3_3\"]\n",
        "        Currency_Pair[\"Stochastic %D\"] = Stoch[\"STOCHd_14_3_3\"]\n",
        "        #Heiken Ashi\n",
        "        if Symbol_String[-3:] == \"JPY\":\n",
        "            Rounding = 3\n",
        "        else:\n",
        "            Rounding = 5\n",
        "        Heiken_Ashi = round(ta.ha(Currency_Pair[\"open\"], high = Currency_Pair[\"high\"], \n",
        "                                  low = Currency_Pair[\"low\"], close = Currency_Pair[\"close\"]),Rounding)\n",
        "        Currency_Pair[\"Heiken Ashi Open\"] = Heiken_Ashi[\"HA_open\"]\n",
        "        Currency_Pair[\"Heiken Ashi High\"] = Heiken_Ashi[\"HA_high\"]\n",
        "        Currency_Pair[\"Heiken Ashi Low\"] = Heiken_Ashi[\"HA_low\"]\n",
        "        Currency_Pair[\"Heiken Ashi Close\"] = Heiken_Ashi[\"HA_close\"]\n",
        "\n",
        "        #Heiken Ashi Bool\n",
        "        Heiken_Ashi_Boolean = []\n",
        "\n",
        "        i = 0\n",
        "        while i < Currency_Pair.shape[0]:\n",
        "            if (Currency_Pair[\"Heiken Ashi Close\"][i] - Currency_Pair[\"Heiken Ashi Open\"][i]) >= 0:\n",
        "                Heiken_Ashi_Boolean.append(1)\n",
        "            elif(Currency_Pair[\"Heiken Ashi Close\"][i] - Currency_Pair[\"Heiken Ashi Open\"][i]) < 0:\n",
        "                Heiken_Ashi_Boolean.append(0)\n",
        "            i+=1\n",
        "        Currency_Pair[\"Heiken Ashi Boolean\"] = Heiken_Ashi_Boolean\n",
        "\n",
        "        # Peak swing high and low calculations\n",
        "        Peak_Value = []\n",
        "        Peak_Stochastic_Value = []\n",
        "        Peak_Value_List = list()\n",
        "        Peak_Stochastic_Value_List = list()\n",
        "        Peak_Value_List = [np.nan]*Currency_Pair.shape[0]\n",
        "        Peak_Stochastic_Value_List = [np.nan]*Currency_Pair.shape[0]\n",
        "\n",
        "        i = 0\n",
        "\n",
        "        while i < Currency_Pair.shape[0] - 1:\n",
        "            if Currency_Pair[\"Heiken Ashi Boolean\"][i] == 1 and Currency_Pair[\"Heiken Ashi Boolean\"][i+1] == 0:\n",
        "                Peak_Value.append(Currency_Pair[\"close\"][i])\n",
        "                Peak_Stochastic_Value.append(Currency_Pair[\"Stochastic %K\"][i])\n",
        "                j = i - 1\n",
        "                while Currency_Pair[\"Heiken Ashi Boolean\"][j] == 1:\n",
        "                    Peak_Value.append(Currency_Pair[\"close\"][j])\n",
        "                    Peak_Stochastic_Value.append(Currency_Pair[\"Stochastic %K\"][j])\n",
        "                    j-=1\n",
        "                Max_Value = max(Peak_Value)\n",
        "                Max_Stochastic_Value = max(Peak_Stochastic_Value)\n",
        "                Peak_Value = []\n",
        "                Peak_Stochastic_Value = []\n",
        "                Peak_Value_List[i+1] = Max_Value\n",
        "                Peak_Stochastic_Value_List[i+1] = Max_Stochastic_Value\n",
        "                i+=1\n",
        "            elif Currency_Pair[\"Heiken Ashi Boolean\"][i] == 0 and Currency_Pair[\"Heiken Ashi Boolean\"][i+1] == 1:\n",
        "                Peak_Value.append(Currency_Pair[\"close\"][i])\n",
        "                Peak_Stochastic_Value.append(Currency_Pair[\"Stochastic %K\"][i])\n",
        "                j = i - 1\n",
        "                while Currency_Pair[\"Heiken Ashi Boolean\"][j] == 0:\n",
        "                    Peak_Value.append(Currency_Pair[\"close\"][j])\n",
        "                    Peak_Stochastic_Value.append(Currency_Pair[\"Stochastic %K\"][j])\n",
        "                    j-=1\n",
        "                Min_Value = min(Peak_Value)\n",
        "                Min_Stochastic_Value = min(Peak_Stochastic_Value)\n",
        "                Peak_Value = []\n",
        "                Peak_Stochastic_Value = []\n",
        "                Peak_Value_List[i+1] = Min_Value\n",
        "                Peak_Stochastic_Value_List[i+1] = Min_Stochastic_Value\n",
        "                i+=1\n",
        "            elif Currency_Pair[\"Heiken Ashi Boolean\"][i] == 1 and Currency_Pair[\"Heiken Ashi Boolean\"][i+1] == 1:\n",
        "                i+=1\n",
        "            elif Currency_Pair[\"Heiken Ashi Boolean\"][i] == 0 and Currency_Pair[\"Heiken Ashi Boolean\"][i+1] == 0:\n",
        "                i+=1\n",
        "\n",
        "        Currency_Pair[\"Peak Value\"] = Peak_Value_List\n",
        "        Currency_Pair[\"Stochastic Peak Value\"] = Peak_Stochastic_Value_List\n",
        "\n",
        "        Swing_High_Recent = np.nan\n",
        "        Stochastic_High_Recent = np.nan\n",
        "        Swing_Low_Recent = np.nan\n",
        "        Stochastic_Low_Recent = np.nan\n",
        "\n",
        "        Looking_For_Shorts = np.nan\n",
        "        Looking_For_Longs = np.nan\n",
        "\n",
        "        Divergence_List = list()\n",
        "        Divergence_List = [np.nan]*Currency_Pair.shape[0]\n",
        "\n",
        "        i = 0\n",
        "\n",
        "        while i < Currency_Pair.shape[0] - 1:\n",
        "            if (pd.isna(Currency_Pair[\"Peak Value\"][i]) == False and Currency_Pair[\"Heiken Ashi Boolean\"][i] == 1):\n",
        "                Swing_Low_Recent = Currency_Pair[\"Peak Value\"][i]\n",
        "                Stochastic_Low_Recent = Currency_Pair[\"Stochastic Peak Value\"][i]\n",
        "                Looking_For_Shorts = True\n",
        "                Looking_For_Longs = False\n",
        "                i+=1\n",
        "            elif (pd.isna(Currency_Pair[\"Peak Value\"][i]) == False and Currency_Pair[\"Heiken Ashi Boolean\"][i] == 0):\n",
        "                Swing_High_Recent = Currency_Pair[\"Peak Value\"][i]\n",
        "                Stochastic_High_Recent = Currency_Pair[\"Stochastic Peak Value\"][i]\n",
        "                Looking_For_Shorts = False\n",
        "                Looking_For_Longs = True\n",
        "                i+=1\n",
        "            if (pd.isna(Swing_High_Recent) == False and pd.isna(Swing_Low_Recent) == False and Looking_For_Shorts == True and\n",
        "                Currency_Pair[\"close\"][i] >= Swing_High_Recent and Currency_Pair[\"Stochastic %K\"][i] <= Stochastic_High_Recent):\n",
        "                Divergence_List[i] = \"Divergence Short\"\n",
        "                i+=1\n",
        "            elif (pd.isna(Swing_High_Recent) == False and pd.isna(Swing_Low_Recent) == False and Looking_For_Longs == True and\n",
        "                Currency_Pair[\"close\"][i] <= Swing_Low_Recent and Currency_Pair[\"Stochastic %K\"][i] >= Stochastic_Low_Recent):\n",
        "                Divergence_List[i] = \"Divergence Long\"\n",
        "                i+=1\n",
        "            else:\n",
        "                i+=1\n",
        "\n",
        "        Currency_Pair[\"Divergence\"] = Divergence_List\n",
        "\n",
        "        Final_df = pd.concat([Final_df , Currency_Pair.iloc[[-2]]])\n",
        "    return Final_df\n",
        "    \n",
        "import streamlit as st\n",
        "st.title(\"Welcome to Azreal\")\n",
        "\n",
        "if st.button(\"Generate Forex Matrix\"):\n",
        "  Output = FEMUR()\n",
        "  st.dataframe(Output)\n"
      ],
      "metadata": {
        "colab": {
          "base_uri": "https://localhost:8080/"
        },
        "id": "swzb0WYQgWeh",
        "outputId": "af22eecc-3d78-4a7f-9607-03d13c541032"
      },
      "execution_count": 2,
      "outputs": [
        {
          "output_type": "stream",
          "name": "stdout",
          "text": [
            "Writing azreal.py\n"
          ]
        }
      ]
    },
    {
      "cell_type": "code",
      "source": [
        "public_url = ngrok.connect(port=80)\n",
        "public_url"
      ],
      "metadata": {
        "colab": {
          "base_uri": "https://localhost:8080/"
        },
        "id": "KCzqwvMXlIMX",
        "outputId": "4887fa7c-3da3-48d1-b269-bf8ad105cb17"
      },
      "execution_count": 11,
      "outputs": [
        {
          "output_type": "execute_result",
          "data": {
            "text/plain": [
              "<NgrokTunnel: \"http://623a-35-229-66-192.ngrok.io\" -> \"http://localhost:80\">"
            ]
          },
          "metadata": {},
          "execution_count": 11
        }
      ]
    },
    {
      "cell_type": "code",
      "source": [
        "!streamlit run azreal.py --server.port=80"
      ],
      "metadata": {
        "colab": {
          "base_uri": "https://localhost:8080/"
        },
        "id": "roMyvfaikZA9",
        "outputId": "8754e0e5-12e3-4b5f-a06c-8eb885bb58fc"
      },
      "execution_count": 12,
      "outputs": [
        {
          "output_type": "stream",
          "name": "stdout",
          "text": [
            "2022-10-05 16:30:30.759 INFO    numexpr.utils: NumExpr defaulting to 2 threads.\n",
            "\n",
            "Collecting usage statistics. To deactivate, set browser.gatherUsageStats to False.\n",
            "\u001b[0m\n",
            "\u001b[0m\n",
            "\u001b[34m\u001b[1m  You can now view your Streamlit app in your browser.\u001b[0m\n",
            "\u001b[0m\n",
            "\u001b[34m  Network URL: \u001b[0m\u001b[1mhttp://172.28.0.2:80\u001b[0m\n",
            "\u001b[34m  External URL: \u001b[0m\u001b[1mhttp://35.229.66.192:80\u001b[0m\n",
            "\u001b[0m\n",
            "\u001b[34m  Stopping...\u001b[0m\n",
            "^C\n"
          ]
        }
      ]
    },
    {
      "cell_type": "code",
      "source": [
        "!pgrep streamlit\n",
        "!kill 445\n",
        "ngrok.kill()"
      ],
      "metadata": {
        "colab": {
          "base_uri": "https://localhost:8080/"
        },
        "id": "v6XWgAARh0J9",
        "outputId": "eda66e41-b89c-4673-f68d-4e22a780fa8a"
      },
      "execution_count": 13,
      "outputs": [
        {
          "output_type": "stream",
          "name": "stdout",
          "text": [
            "/bin/bash: line 0: kill: (445) - No such process\n"
          ]
        }
      ]
    }
  ]
}